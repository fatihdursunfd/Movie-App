{
 "cells": [
  {
   "cell_type": "code",
   "execution_count": 30,
   "metadata": {},
   "outputs": [],
   "source": [
    "import selenium\n",
    "from bs4 import BeautifulSoup\n",
    "import requests\n",
    "import json "
   ]
  },
  {
   "cell_type": "code",
   "execution_count": 31,
   "metadata": {},
   "outputs": [],
   "source": [
    "url = \"https://www.imdb.com/chart/top/\""
   ]
  },
  {
   "cell_type": "code",
   "execution_count": 32,
   "metadata": {},
   "outputs": [],
   "source": [
    "r = requests.get(url)"
   ]
  },
  {
   "cell_type": "code",
   "execution_count": 33,
   "metadata": {},
   "outputs": [],
   "source": [
    "soup = BeautifulSoup(r.content,\"html.parser\")"
   ]
  },
  {
   "cell_type": "code",
   "execution_count": 34,
   "metadata": {},
   "outputs": [],
   "source": [
    "tableData = soup.find_all(\"table\", {\"class\":\"chart full-width\"})"
   ]
  },
  {
   "cell_type": "code",
   "execution_count": 35,
   "metadata": {},
   "outputs": [],
   "source": [
    "movieList = (tableData[0].contents)[len(tableData[0].contents)-2]\n",
    "movieList = movieList.findAll(\"tr\")"
   ]
  },
  {
   "cell_type": "code",
   "execution_count": null,
   "metadata": {},
   "outputs": [],
   "source": [
    "with open('data.json', 'w') as outfile:\n",
    "    outfile.write(\"[\\n\")\n",
    "    for movie in movieList:\n",
    "\n",
    "        data = {\n",
    "            \"Name\" : \"\",\n",
    "            \"Date\" : 0,\n",
    "            \"Image-sm\" : \"\",\n",
    "            \"Rating\" : \"\",\n",
    "            \"Description\" : \"\",\n",
    "            \"Director\" : \"\",\n",
    "            \"Writers\" : [],\n",
    "            \"Stars\" : [],\n",
    "            \"Image-lg\" : \"\"\n",
    "        }\n",
    "        \n",
    "        titleColumn = movie.find_all(\"td\",{\"class\" : \"titleColumn\"})\n",
    "        name = titleColumn[0].a.text\n",
    "        date = titleColumn[0].span.text.replace(\"(\",\"\").replace(\")\",\"\")\n",
    "\n",
    "        data[\"Name\"] = name\n",
    "        data[\"Date\"] = date\n",
    "\n",
    "        poster = movie.find_all(\"td\",{\"class\" : \"posterColumn\"})\n",
    "        image_sm = poster[0].a.img['src']\n",
    "\n",
    "        data[\"Image-sm\"] = image_sm\n",
    "\n",
    "        rating = movie.find_all(\"strong\")[0].text\n",
    "\n",
    "        data[\"Rating\"] = rating\n",
    "\n",
    "        movie_link = \"https://www.imdb.com/\" + titleColumn[0].a['href']\n",
    "\n",
    "        r2 = requests.get(movie_link)\n",
    "        soup2 = BeautifulSoup(r2.content,\"html.parser\")\n",
    "        \n",
    "        desc = soup2.find_all(\"span\",{\"class\":\"sc-16ede01-2 gXUyNh\"})[0].text\n",
    "\n",
    "        data[\"Description\"] = desc\n",
    "\n",
    "        infos = soup2.find_all(\"div\",{\"class\":\"sc-fa02f843-0 fjLeDR\"})\n",
    "\n",
    "        for info in infos :\n",
    "            li_list = info.find_all(\"li\",{\"class\":\"ipc-metadata-list__item\"})\n",
    "            labels = [\"Director\",\"Writer\",\"Stars\"]\n",
    "            i = 0\n",
    "            for li in li_list:\n",
    "                lis = li.find_all(\"li\",{\"class\":\"ipc-inline-list__item\"})\n",
    "                for lisa in lis:\n",
    "                    a = lisa.a.text\n",
    "                    # director writes stars\n",
    "                    if( i == 0 ) :\n",
    "                        data[\"Director\"] = a\n",
    "                    if( i == 1 ) : \n",
    "                        data[\"Writers\"].append(a)\n",
    "                    if( i == 2 ) :\n",
    "                        data[\"Stars\"].append(a)\n",
    "\n",
    "                i = i + 1\n",
    "        \n",
    "        try :\n",
    "            poster_lg = soup2.find_all(\"div\",{\"class\",\"sc-a658a417-1 bmkYoJ\"})\n",
    "            poster_lg_link = \"https://www.imdb.com/\" + poster_lg[0].a['href']\n",
    "\n",
    "            r3 = requests.get(poster_lg_link)\n",
    "            soup3 = BeautifulSoup(r3.content,\"html.parser\")\n",
    "\n",
    "            image_lg = soup3.find_all(\"div\",{\"class\":\"sc-7c0a9e7c-2 bkptFa\"})\n",
    "            image_lg = image_lg[0].img['src']\n",
    "\n",
    "            data[\"Image-lg\"] = image_lg\n",
    "        except :\n",
    "            continue\n",
    "\n",
    "        json_object = json.dumps(data, indent = 4) \n",
    "        outfile.write(json_object)\n",
    "        outfile.write(\",\\n\")\n",
    "\n",
    "    outfile.write(\"\\n]\")\n",
    "    outfile.close()"
   ]
  }
 ],
 "metadata": {
  "interpreter": {
   "hash": "66b94497dab2d27425e3f2091c3c7dc2ea75cd7e2b5124c371513e42475b1791"
  },
  "kernelspec": {
   "display_name": "Python 3.10.4 64-bit",
   "language": "python",
   "name": "python3"
  },
  "language_info": {
   "codemirror_mode": {
    "name": "ipython",
    "version": 3
   },
   "file_extension": ".py",
   "mimetype": "text/x-python",
   "name": "python",
   "nbconvert_exporter": "python",
   "pygments_lexer": "ipython3",
   "version": "3.10.4"
  },
  "orig_nbformat": 4
 },
 "nbformat": 4,
 "nbformat_minor": 2
}
